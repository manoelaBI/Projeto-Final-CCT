{
 "cells": [
  {
   "cell_type": "code",
   "execution_count": 1,
   "id": "d8179404",
   "metadata": {},
   "outputs": [
    {
     "name": "stdout",
     "output_type": "stream",
     "text": [
      "Requirement already satisfied: selenium in c:\\users\\manoela lacombe\\anaconda3\\lib\\site-packages (3.141.0)\n",
      "Requirement already satisfied: urllib3 in c:\\users\\manoela lacombe\\anaconda3\\lib\\site-packages (from selenium) (1.26.4)\n"
     ]
    }
   ],
   "source": [
    "#Instala o Selenium\n",
    "\n",
    "!pip install selenium\n",
    "\n"
   ]
  },
  {
   "cell_type": "code",
   "execution_count": 6,
   "id": "637ad6ea",
   "metadata": {},
   "outputs": [],
   "source": [
    "# Utiliza o webdriver para abrir a página do Ministério do Trabalho\n",
    "\n",
    "from selenium import webdriver\n",
    "\n",
    "\n",
    "\n",
    "wd=webdriver.Chrome(r'C:\\Users\\Manoela Lacombe\\OneDrive - Diretório Padrão\\Área de Trabalho\\Trabalho - Final\\chromedriver_win32_2\\chromedriver')\n",
    "url = \"http://www3.mte.gov.br/sistemas/mediador/ConsultarInstColetivo\"\n",
    "wd.get(url)\n",
    "\n",
    "chrome_prefs = {\"download.default_directory\": r\"C:\\Users\\Manoela Lacombe\\OneDrive - Diretório Padrão\\Área de Trabalho\\Trabalho - Final\\Arquivos CCTs\"}\n",
    "\n"
   ]
  },
  {
   "cell_type": "code",
   "execution_count": 7,
   "id": "34967fee",
   "metadata": {},
   "outputs": [],
   "source": [
    "#Marca a caixa que determina a categoria\n",
    "marcar_categoria = wd.find_element_by_xpath('//input[@id=\"chkCategoria\"]')\n",
    "marcar_categoria.click()"
   ]
  },
  {
   "cell_type": "code",
   "execution_count": 8,
   "id": "bb727261",
   "metadata": {},
   "outputs": [],
   "source": [
    "#Escrever Categoria desejada\n",
    "from selenium.webdriver.common.keys import Keys\n",
    "import time\n",
    "\n",
    "categoria_desejada = wd.find_element_by_xpath('//input[@id=\"txtDSCategoria\"]')\n",
    "categoria_desejada.send_keys(\"asseio e conservação\")"
   ]
  },
  {
   "cell_type": "code",
   "execution_count": 9,
   "id": "8e68687c",
   "metadata": {},
   "outputs": [],
   "source": [
    "#Selecionar tipo de instrumento coletivo desejado\n",
    "from selenium.webdriver.support.ui import Select\n",
    "tipo_desejado = wd.find_element_by_xpath('//select[@id=\"cboTPRequerimento\"]')\n",
    "tipo_desejado.click()\n",
    "vigencia_desejado = wd.find_element_by_xpath('//option[@value=\"convencao\"]')\n",
    "vigencia_desejado.click()\n"
   ]
  },
  {
   "cell_type": "code",
   "execution_count": 10,
   "id": "500d6cea",
   "metadata": {},
   "outputs": [],
   "source": [
    "#Selecionar Vigência desejada\n",
    "vigencia_desejado = wd.find_element_by_xpath('//select[@id=\"cboSTVigencia\"]')\n",
    "vigencia_desejado.click()\n",
    "tipo_desejado = wd.find_element_by_xpath('//option[@value=\"1\"]')\n",
    "tipo_desejado.click()"
   ]
  },
  {
   "cell_type": "code",
   "execution_count": 11,
   "id": "4c0639c1",
   "metadata": {},
   "outputs": [],
   "source": [
    "#Selecionar UF desejado\n",
    "UF_desejado = wd.find_element_by_xpath('//select[@id=\"cboUFRegistro\"]')\n",
    "UF_desejado.click()\n",
    "UF_desejado = wd.find_element_by_xpath('//option[@value=\"RJ\"]')\n",
    "UF_desejado.click()"
   ]
  },
  {
   "cell_type": "code",
   "execution_count": 12,
   "id": "a32ea12d",
   "metadata": {},
   "outputs": [],
   "source": [
    "#Clicar no botão pesquisar\n",
    "clicar_pesquisa = wd.find_element_by_xpath('//button[@id=\"btnPesquisar\"]')\n",
    "clicar_pesquisa.click()\n",
    "time.sleep(2)\n",
    "ccts_page = wd.page_source\n"
   ]
  },
  {
   "cell_type": "code",
   "execution_count": 13,
   "id": "76d474e8",
   "metadata": {},
   "outputs": [],
   "source": [
    "window_before = wd.window_handles[0]"
   ]
  },
  {
   "cell_type": "code",
   "execution_count": 14,
   "id": "6b0e4379",
   "metadata": {},
   "outputs": [
    {
     "name": "stdout",
     "output_type": "stream",
     "text": [
      "Visualizar Instrumento Coletivo\n"
     ]
    }
   ],
   "source": [
    "#Filtrar botão de visualizar o instrumento coletivo\n",
    "\n",
    "teste = wd.find_elements_by_xpath('//span[@style=\"padding-left: 15px\"]/a')\n",
    "teste = teste [1]\n",
    "print(teste.text)"
   ]
  },
  {
   "cell_type": "code",
   "execution_count": 15,
   "id": "aae23721",
   "metadata": {},
   "outputs": [],
   "source": [
    "#executar clique no teste_1 - Teste\n",
    "\n",
    "teste.click()"
   ]
  },
  {
   "cell_type": "code",
   "execution_count": 16,
   "id": "1ae43b73",
   "metadata": {},
   "outputs": [],
   "source": [
    "#armazenando o identificador da janela nova - Teste\n",
    "\n",
    "window_after = wd.window_handles[1]"
   ]
  },
  {
   "cell_type": "code",
   "execution_count": 17,
   "id": "ec1da240",
   "metadata": {
    "scrolled": true
   },
   "outputs": [],
   "source": [
    "#Trocar de janela para a janela com a CCT - Teste\n",
    "\n",
    "wd.switch_to.window(window_after)"
   ]
  },
  {
   "cell_type": "code",
   "execution_count": 18,
   "id": "4dbb7d3b",
   "metadata": {},
   "outputs": [
    {
     "data": {
      "text/plain": [
       "'http://www3.mte.gov.br/sistemas/mediador/Resumo/ResumoVisualizar?NrSolicitacao=MR013858/2021'"
      ]
     },
     "execution_count": 18,
     "metadata": {},
     "output_type": "execute_result"
    }
   ],
   "source": [
    "#Pega a URL da página - teste\n",
    "\n",
    "wd.current_url"
   ]
  },
  {
   "cell_type": "code",
   "execution_count": 76,
   "id": "476fa35a",
   "metadata": {},
   "outputs": [],
   "source": [
    "#Instalar biblioteca requests\n",
    "\n",
    "#!pip install requests"
   ]
  },
  {
   "cell_type": "code",
   "execution_count": 19,
   "id": "6e9d30e6",
   "metadata": {},
   "outputs": [],
   "source": [
    "#Teste Salvar em PDF\n",
    "\n",
    "import requests\n",
    "url = wd.current_url\n",
    "r = requests.get(url, stream=True)\n",
    "\n",
    "\n"
   ]
  },
  {
   "cell_type": "code",
   "execution_count": 20,
   "id": "868838d8",
   "metadata": {},
   "outputs": [],
   "source": [
    "fd = open('THE3.pdf','wb')\n",
    "for ch in r.iter_content(chunk_size=128):\n",
    "        fd.write(ch)\n",
    "fd.close()\n"
   ]
  },
  {
   "cell_type": "code",
   "execution_count": null,
   "id": "190f3853",
   "metadata": {},
   "outputs": [],
   "source": [
    "# Clicar nos itens da lista e baixar os arquivos - Estrutura For\n",
    "\n",
    "import requests\n",
    "\n",
    "for i in range(0,len(teste)):\n",
    "    if teste[i].is_displayed():\n",
    "        teste[i].click()\n",
    "        window_after = wd.window_handles[1]\n",
    "        wd.switch_to.window(window_after)\n",
    "        wd.current_url\n",
    "        url = wd.current_url\n",
    "        r = requests.get(url, stream=True)\n",
    "        fd = open(\"THE3.pdf\",'wb')\n",
    "        for ch in r.iter_content(chunk_size=128):\n",
    "            fd.write(ch)\n",
    "        fd.close()\n",
    "        wd.switch_to.window(window_before)\n",
    "    \n",
    "\n"
   ]
  },
  {
   "cell_type": "code",
   "execution_count": null,
   "id": "3eb1d19c",
   "metadata": {},
   "outputs": [],
   "source": []
  }
 ],
 "metadata": {
  "kernelspec": {
   "display_name": "Python 3",
   "language": "python",
   "name": "python3"
  },
  "language_info": {
   "codemirror_mode": {
    "name": "ipython",
    "version": 3
   },
   "file_extension": ".py",
   "mimetype": "text/x-python",
   "name": "python",
   "nbconvert_exporter": "python",
   "pygments_lexer": "ipython3",
   "version": "3.8.8"
  }
 },
 "nbformat": 4,
 "nbformat_minor": 5
}
